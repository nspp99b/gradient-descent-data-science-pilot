{
 "cells": [
  {
   "cell_type": "markdown",
   "metadata": {},
   "source": [
    "# Improving Regression Lines"
   ]
  },
  {
   "cell_type": "markdown",
   "metadata": {},
   "source": [
    "### Learning Objectives "
   ]
  },
  {
   "cell_type": "markdown",
   "metadata": {},
   "source": [
    "* Understand how to go from RSS to finding a \"best fit\" line\n",
    "* Understand a cost curve and what it displays"
   ]
  },
  {
   "cell_type": "markdown",
   "metadata": {},
   "source": [
    "### Introduction"
   ]
  },
  {
   "cell_type": "markdown",
   "metadata": {},
   "source": [
    "In the previous section we saw how after choosing the slope and y-intercept values of a regression line, we use the residual sum of squares (RSS) to distill the goodness of fit into one number.  Once doing so, we are pretty close to understanding the gradient descent technique.  But before doing so, let's review and ensure that we understand how to evaluate the accuracy of our line to our data.  "
   ]
  },
  {
   "cell_type": "markdown",
   "metadata": {},
   "source": [
    "### Review of plotting our data and a regression line"
   ]
  },
  {
   "cell_type": "markdown",
   "metadata": {},
   "source": [
    "For this example, let's imagine that our data looks like the following:"
   ]
  },
  {
   "cell_type": "code",
   "execution_count": 1,
   "metadata": {},
   "outputs": [],
   "source": [
    "first_show = {'budget': 100, 'revenue': 275}\n",
    "second_show = {'budget': 200, 'revenue': 300}\n",
    "third_show = {'budget': 400, 'revenue': 700}\n",
    "\n",
    "shows = [first_show, second_show, third_show]"
   ]
  },
  {
   "cell_type": "markdown",
   "metadata": {},
   "source": [
    "> Press shift + enter"
   ]
  },
  {
   "cell_type": "markdown",
   "metadata": {},
   "source": [
    "Let's again come up with some numbers for a slope and a y-intercept.  Remember that our technique so far is to get at the slope by drawing a line between the first and last points.  And from there, we calculate the value of $b$.  Our `build_regression_line` function, defined in our linear_equations [library](https://github.com/learn-co-curriculum/gradient-descent/blob/master/linear_equations.py), quickly does this for us."
   ]
  },
  {
   "cell_type": "markdown",
   "metadata": {},
   "source": [
    "So let's do this with our data above by getting a list of `x_values`, budgets, and `y_values`, revenues, and pass them into our `build_regression_line` function. "
   ]
  },
  {
   "cell_type": "code",
   "execution_count": 3,
   "metadata": {},
   "outputs": [
    {
     "data": {
      "text/plain": [
       "{'b': 133.33333333333326, 'm': 1.4166666666666667}"
      ]
     },
     "execution_count": 3,
     "metadata": {},
     "output_type": "execute_result"
    }
   ],
   "source": [
    "from linear_equations import build_regression_line\n",
    "\n",
    "budgets = list(map(lambda show: show['budget'], shows))\n",
    "revenues = list(map(lambda show: show['revenue'], shows))\n",
    "\n",
    "build_regression_line(budgets, revenues)"
   ]
  },
  {
   "cell_type": "markdown",
   "metadata": {},
   "source": [
    "Turning this into a regression formula, it looks like the following."
   ]
  },
  {
   "cell_type": "code",
   "execution_count": 5,
   "metadata": {
    "collapsed": true
   },
   "outputs": [],
   "source": [
    "def regression_formula(x):\n",
    "    return 1.417*x + 133.33"
   ]
  },
  {
   "cell_type": "markdown",
   "metadata": {},
   "source": [
    "Let's plot this regression formula with our data to get a sense of what this looks like.  First import the necessary libraries to allow us to use `plotly` in our notebook. "
   ]
  },
  {
   "cell_type": "code",
   "execution_count": 6,
   "metadata": {},
   "outputs": [
    {
     "data": {
      "text/html": [
       "<script>requirejs.config({paths: { 'plotly': ['https://cdn.plot.ly/plotly-latest.min']},});if(!window.Plotly) {{require(['plotly'],function(plotly) {window.Plotly=plotly;});}}</script>"
      ],
      "text/vnd.plotly.v1+html": [
       "<script>requirejs.config({paths: { 'plotly': ['https://cdn.plot.ly/plotly-latest.min']},});if(!window.Plotly) {{require(['plotly'],function(plotly) {window.Plotly=plotly;});}}</script>"
      ]
     },
     "metadata": {},
     "output_type": "display_data"
    },
    {
     "data": {
      "application/vnd.plotly.v1+json": {
       "data": [
        {
         "mode": "line",
         "name": "line function",
         "x": [
          100,
          200,
          400
         ],
         "y": [
          275.03000000000003,
          416.73,
          700.1300000000001
         ]
        },
        {
         "mode": "markers",
         "name": "data",
         "text": [],
         "x": [
          100,
          200,
          400
         ],
         "y": [
          275,
          300,
          700
         ]
        }
       ],
       "layout": {}
      },
      "text/html": [
       "<div id=\"40b83cfb-eaed-47e6-b162-8001328ae6f0\" style=\"height: 525px; width: 100%;\" class=\"plotly-graph-div\"></div><script type=\"text/javascript\">require([\"plotly\"], function(Plotly) { window.PLOTLYENV=window.PLOTLYENV || {};window.PLOTLYENV.BASE_URL=\"https://plot.ly\";Plotly.newPlot(\"40b83cfb-eaed-47e6-b162-8001328ae6f0\", [{\"x\": [100, 200, 400], \"y\": [275.03000000000003, 416.73, 700.1300000000001], \"mode\": \"line\", \"name\": \"line function\"}, {\"x\": [100, 200, 400], \"y\": [275, 300, 700], \"mode\": \"markers\", \"name\": \"data\", \"text\": []}], {}, {\"showLink\": true, \"linkText\": \"Export to plot.ly\"})});</script>"
      ],
      "text/vnd.plotly.v1+html": [
       "<div id=\"40b83cfb-eaed-47e6-b162-8001328ae6f0\" style=\"height: 525px; width: 100%;\" class=\"plotly-graph-div\"></div><script type=\"text/javascript\">require([\"plotly\"], function(Plotly) { window.PLOTLYENV=window.PLOTLYENV || {};window.PLOTLYENV.BASE_URL=\"https://plot.ly\";Plotly.newPlot(\"40b83cfb-eaed-47e6-b162-8001328ae6f0\", [{\"x\": [100, 200, 400], \"y\": [275.03000000000003, 416.73, 700.1300000000001], \"mode\": \"line\", \"name\": \"line function\"}, {\"x\": [100, 200, 400], \"y\": [275, 300, 700], \"mode\": \"markers\", \"name\": \"data\", \"text\": []}], {}, {\"showLink\": true, \"linkText\": \"Export to plot.ly\"})});</script>"
      ]
     },
     "metadata": {},
     "output_type": "display_data"
    }
   ],
   "source": [
    "import plotly\n",
    "from plotly.offline import init_notebook_mode, iplot\n",
    "from graph import m_b_trace, trace_values, plot\n",
    "init_notebook_mode(connected=True)\n",
    "\n",
    "regression_trace = m_b_trace(1.417, 133.33, budgets)\n",
    "scatter_trace = trace_values(budgets, revenues)\n",
    "plot([regression_trace, scatter_trace])"
   ]
  },
  {
   "cell_type": "markdown",
   "metadata": {},
   "source": [
    "### Evaluating the regression line"
   ]
  },
  {
   "cell_type": "markdown",
   "metadata": {},
   "source": [
    "Ok, now we add in our functions for displaying the errors for our graph."
   ]
  },
  {
   "cell_type": "code",
   "execution_count": 7,
   "metadata": {},
   "outputs": [
    {
     "data": {
      "application/vnd.plotly.v1+json": {
       "data": [
        {
         "mode": "markers",
         "name": "data",
         "text": [],
         "x": [
          100,
          200,
          400
         ],
         "y": [
          275,
          300,
          700
         ]
        },
        {
         "mode": "line",
         "name": "line function",
         "x": [
          100,
          200,
          400
         ],
         "y": [
          275.03000000000003,
          416.73,
          700.1300000000001
         ]
        },
        {
         "marker": {
          "color": "red"
         },
         "mode": "line",
         "name": "error at 100",
         "text": [
          -0.03000000000002956
         ],
         "textposition": "right",
         "x": [
          100,
          100
         ],
         "y": [
          275,
          275.03000000000003
         ]
        },
        {
         "marker": {
          "color": "red"
         },
         "mode": "line",
         "name": "error at 200",
         "text": [
          -116.73000000000002
         ],
         "textposition": "right",
         "x": [
          200,
          200
         ],
         "y": [
          300,
          416.73
         ]
        },
        {
         "marker": {
          "color": "red"
         },
         "mode": "line",
         "name": "error at 400",
         "text": [
          -0.13000000000010914
         ],
         "textposition": "right",
         "x": [
          400,
          400
         ],
         "y": [
          700,
          700.1300000000001
         ]
        }
       ],
       "layout": {}
      },
      "text/html": [
       "<div id=\"0f0b7ce3-1232-47e7-9fc5-2134a0792f2e\" style=\"height: 525px; width: 100%;\" class=\"plotly-graph-div\"></div><script type=\"text/javascript\">require([\"plotly\"], function(Plotly) { window.PLOTLYENV=window.PLOTLYENV || {};window.PLOTLYENV.BASE_URL=\"https://plot.ly\";Plotly.newPlot(\"0f0b7ce3-1232-47e7-9fc5-2134a0792f2e\", [{\"x\": [100, 200, 400], \"y\": [275, 300, 700], \"mode\": \"markers\", \"name\": \"data\", \"text\": []}, {\"x\": [100, 200, 400], \"y\": [275.03000000000003, 416.73, 700.1300000000001], \"mode\": \"line\", \"name\": \"line function\"}, {\"x\": [100, 100], \"y\": [275, 275.03000000000003], \"mode\": \"line\", \"marker\": {\"color\": \"red\"}, \"name\": \"error at 100\", \"text\": [-0.03000000000002956], \"textposition\": \"right\"}, {\"x\": [200, 200], \"y\": [300, 416.73], \"mode\": \"line\", \"marker\": {\"color\": \"red\"}, \"name\": \"error at 200\", \"text\": [-116.73000000000002], \"textposition\": \"right\"}, {\"x\": [400, 400], \"y\": [700, 700.1300000000001], \"mode\": \"line\", \"marker\": {\"color\": \"red\"}, \"name\": \"error at 400\", \"text\": [-0.13000000000010914], \"textposition\": \"right\"}], {}, {\"showLink\": true, \"linkText\": \"Export to plot.ly\"})});</script>"
      ],
      "text/vnd.plotly.v1+html": [
       "<div id=\"0f0b7ce3-1232-47e7-9fc5-2134a0792f2e\" style=\"height: 525px; width: 100%;\" class=\"plotly-graph-div\"></div><script type=\"text/javascript\">require([\"plotly\"], function(Plotly) { window.PLOTLYENV=window.PLOTLYENV || {};window.PLOTLYENV.BASE_URL=\"https://plot.ly\";Plotly.newPlot(\"0f0b7ce3-1232-47e7-9fc5-2134a0792f2e\", [{\"x\": [100, 200, 400], \"y\": [275, 300, 700], \"mode\": \"markers\", \"name\": \"data\", \"text\": []}, {\"x\": [100, 200, 400], \"y\": [275.03000000000003, 416.73, 700.1300000000001], \"mode\": \"line\", \"name\": \"line function\"}, {\"x\": [100, 100], \"y\": [275, 275.03000000000003], \"mode\": \"line\", \"marker\": {\"color\": \"red\"}, \"name\": \"error at 100\", \"text\": [-0.03000000000002956], \"textposition\": \"right\"}, {\"x\": [200, 200], \"y\": [300, 416.73], \"mode\": \"line\", \"marker\": {\"color\": \"red\"}, \"name\": \"error at 200\", \"text\": [-116.73000000000002], \"textposition\": \"right\"}, {\"x\": [400, 400], \"y\": [700, 700.1300000000001], \"mode\": \"line\", \"marker\": {\"color\": \"red\"}, \"name\": \"error at 400\", \"text\": [-0.13000000000010914], \"textposition\": \"right\"}], {}, {\"showLink\": true, \"linkText\": \"Export to plot.ly\"})});</script>"
      ]
     },
     "metadata": {},
     "output_type": "display_data"
    }
   ],
   "source": [
    "from graph import trace, plot, line_function_trace\n",
    "\n",
    "def y_actual(x, x_values, y_values):\n",
    "    combined_values = list(zip(x_values, y_values))\n",
    "    point_at_x = list(filter(lambda point: point[0] == x,combined_values))[0]\n",
    "    return point_at_x[1]\n",
    "\n",
    "def error_line_trace(x_values, y_values, m, b, x):\n",
    "    y_hat = m*x + b\n",
    "    y = y_actual(x, x_values, y_values)\n",
    "    name = 'error at ' + str(x)\n",
    "    error_value = y - y_hat\n",
    "    return {'x': [x, x], 'y': [y, y_hat], 'mode': 'line', 'marker': {'color': 'red'}, 'name': name, 'text': [error_value], 'textposition':'right'}\n",
    "\n",
    "def error_line_traces(x_values, y_values, m, b):\n",
    "    return list(map(lambda x_value: error_line_trace(x_values, y_values, m, b, x_value), x_values))\n",
    "\n",
    "errors = error_line_traces(budgets, revenues, 1.417, 133.33)\n",
    "plot([scatter_trace, regression_trace, *errors])"
   ]
  },
  {
   "cell_type": "markdown",
   "metadata": {},
   "source": [
    "From there, we calculate the `residual sum of squared errors`."
   ]
  },
  {
   "cell_type": "code",
   "execution_count": 8,
   "metadata": {
    "scrolled": true
   },
   "outputs": [
    {
     "data": {
      "text/plain": [
       "13625.910700000006"
      ]
     },
     "execution_count": 8,
     "metadata": {},
     "output_type": "execute_result"
    }
   ],
   "source": [
    "def error(x_values, y_values, m, b, x):\n",
    "    expected = (m*x + b)\n",
    "    return (y_actual(x, x_values, y_values) - expected)\n",
    "\n",
    "def squared_error(x_values, y_values, m, b, x):\n",
    "    return error(x_values, y_values, m, b, x)**2\n",
    "\n",
    "def squared_errors(x_values, y_values, m, b):\n",
    "    return list(map(lambda x: squared_error(x_values, y_values, m, b, x), x_values))\n",
    "\n",
    "def residual_sum_squares(x_values, y_values, m, b):\n",
    "    return sum(squared_errors(x_values, y_values, m, b))\n",
    "\n",
    "squared_errors(budgets, revenues, 1.417, 133.33)\n",
    "residual_sum_squares(budgets, revenues, 1.417, 133.33)\n"
   ]
  },
  {
   "cell_type": "markdown",
   "metadata": {},
   "source": [
    "### Moving towards gradient descent"
   ]
  },
  {
   "cell_type": "markdown",
   "metadata": {},
   "source": [
    "Now that we have the residual sum of squares function to evaluate the accuracy of our regression line, we can simply try out different regression lines and use the regression line that has the lowest RSS.  The regression line that produces the lowest RSS for a given dataset is called the \"best fit\" line for that dataset.  \n",
    "\n",
    "So this will be our technique for finding our \"best fit\" line:\n",
    "\n",
    "* Choose a regression line with a guess of values for $m$ and $b$\n",
    "* Calculate the RSS\n",
    "* Adjust $m$ and $b$, as these are the only things that can vary in a single-variable regression line.\n",
    "* Again calculate the RSS \n",
    "* Repeat this process\n",
    "* The regression line (that is, the values of $b$ and $m$) with the smallest RSS is our **best fit line**\n",
    "\n",
    "We'll eventually tweak and improve upon that process, but for now it can get us pretty far.  In fact, let's make things even easier by keeping our value of $m$ fixed, and only changing our value of $b$.  In later lessons, we will change both variables."
   ]
  },
  {
   "cell_type": "markdown",
   "metadata": {},
   "source": [
    "Ok, so we have a regression line of $\\overline{y} = \\overline{m}x + \\overline{b} $, and we started with values of $m = 1.41 $ and $b = 133.33 $.  Then seeing how well this regression line matched our dataset, we calculated that $ RSS = 13625.9 $.  Our next step is to plug in different values of $b$ and see how RSS changes."
   ]
  },
  {
   "cell_type": "code",
   "execution_count": 9,
   "metadata": {},
   "outputs": [
    {
     "data": {
      "text/plain": [
       "10852.689999999993"
      ]
     },
     "execution_count": 9,
     "metadata": {},
     "output_type": "execute_result"
    }
   ],
   "source": [
    "residual_sum_squares(budgets, revenues, 1.417, 70)"
   ]
  },
  {
   "cell_type": "markdown",
   "metadata": {},
   "source": [
    "| b        | residual sum of squared           | \n",
    "| ------------- |:-------------:| \n",
    "| 140 | 15318 | \n",
    "| 130      |12880| \n",
    "| 120      |11042 | \n",
    "| 110      |9804| \n",
    "|100 | 9166\n",
    "|90 | 9128\n",
    "|80 | 9690\n",
    "|70| 10852"
   ]
  },
  {
   "cell_type": "markdown",
   "metadata": {},
   "source": [
    "Now notice that while keeping our value of $m$ fixed at 1.417, we can move towards a smaller residual sum of squares (RSS) by changing our value of $b$.  Setting $b$ to 140 produced a higher error than at 130, so we tried moving in the other direction.  We kept moving our $b$ value lower until we set $b$ = 80, at which point our error again increased from the value at 90.  So, we know that a value of $b$ between 80 and 90 produces the smallest RSS, for when $m$ = 1.417. \n",
    "\n",
    "This changing output of RSS based on a changing input of different regression lines is called our cost function.  You can see that if we plot our cost function as RSS with changing values of $b$, we get the following:"
   ]
  },
  {
   "cell_type": "code",
   "execution_count": 10,
   "metadata": {},
   "outputs": [
    {
     "data": {
      "text/html": [
       "<script>requirejs.config({paths: { 'plotly': ['https://cdn.plot.ly/plotly-latest.min']},});if(!window.Plotly) {{require(['plotly'],function(plotly) {window.Plotly=plotly;});}}</script>"
      ],
      "text/vnd.plotly.v1+html": [
       "<script>requirejs.config({paths: { 'plotly': ['https://cdn.plot.ly/plotly-latest.min']},});if(!window.Plotly) {{require(['plotly'],function(plotly) {window.Plotly=plotly;});}}</script>"
      ]
     },
     "metadata": {},
     "output_type": "display_data"
    },
    {
     "data": {
      "application/vnd.plotly.v1+json": {
       "data": [
        {
         "mode": "line",
         "name": "data",
         "text": [],
         "x": [
          70,
          80,
          90,
          100,
          110,
          120,
          130,
          140
         ],
         "y": [
          10852,
          9690,
          9128,
          9166,
          9804,
          11042,
          12880,
          15318
         ]
        }
       ],
       "layout": {}
      },
      "text/html": [
       "<div id=\"c44befe5-53ec-4a57-9fb8-e7f78bca148b\" style=\"height: 525px; width: 100%;\" class=\"plotly-graph-div\"></div><script type=\"text/javascript\">require([\"plotly\"], function(Plotly) { window.PLOTLYENV=window.PLOTLYENV || {};window.PLOTLYENV.BASE_URL=\"https://plot.ly\";Plotly.newPlot(\"c44befe5-53ec-4a57-9fb8-e7f78bca148b\", [{\"x\": [70, 80, 90, 100, 110, 120, 130, 140], \"y\": [10852, 9690, 9128, 9166, 9804, 11042, 12880, 15318], \"mode\": \"line\", \"name\": \"data\", \"text\": []}], {}, {\"showLink\": true, \"linkText\": \"Export to plot.ly\"})});</script>"
      ],
      "text/vnd.plotly.v1+html": [
       "<div id=\"c44befe5-53ec-4a57-9fb8-e7f78bca148b\" style=\"height: 525px; width: 100%;\" class=\"plotly-graph-div\"></div><script type=\"text/javascript\">require([\"plotly\"], function(Plotly) { window.PLOTLYENV=window.PLOTLYENV || {};window.PLOTLYENV.BASE_URL=\"https://plot.ly\";Plotly.newPlot(\"c44befe5-53ec-4a57-9fb8-e7f78bca148b\", [{\"x\": [70, 80, 90, 100, 110, 120, 130, 140], \"y\": [10852, 9690, 9128, 9166, 9804, 11042, 12880, 15318], \"mode\": \"line\", \"name\": \"data\", \"text\": []}], {}, {\"showLink\": true, \"linkText\": \"Export to plot.ly\"})});</script>"
      ]
     },
     "metadata": {},
     "output_type": "display_data"
    }
   ],
   "source": [
    "import plotly\n",
    "from plotly.offline import init_notebook_mode, iplot\n",
    "from graph import m_b_trace, trace_values, plot\n",
    "init_notebook_mode(connected=True)\n",
    "b_values = list(range(70, 150, 10))\n",
    "rss = [10852, 9690, 9128, 9166, 9804, 11042, 12880, 15318]\n",
    "cost_curve_trace = trace_values(b_values, rss, mode=\"line\")\n",
    "plot([cost_curve_trace])"
   ]
  },
  {
   "cell_type": "markdown",
   "metadata": {},
   "source": [
    "The graph above is called the cost curve.  It is a plot of the RSS as values of $y$ for different values of $b$.    The curve shows see visually that when $b$ is between 90 and 100 RSS is the lowest.  This technique of adjusting our values to minimize move towards a minimum value is called *gradient descent*.  Here, we *descend* along a cost curve.  When the value of our RSS no longer decreases as we change our variable, we stop."
   ]
  },
  {
   "cell_type": "markdown",
   "metadata": {},
   "source": [
    "### Summary\n",
    "\n",
    "In this section we saw the path from going from calculating the RSS for a given regression line, to finding a best fit line.  Already we see how to move to a better regression line by moving down along our cost curve.  Going forward, we will see ensure that we can move towards our \"best fit\" line in an efficient manner. "
   ]
  }
 ],
 "metadata": {
  "kernelspec": {
   "display_name": "Python 3",
   "language": "python",
   "name": "python3"
  },
  "language_info": {
   "codemirror_mode": {
    "name": "ipython",
    "version": 3
   },
   "file_extension": ".py",
   "mimetype": "text/x-python",
   "name": "python",
   "nbconvert_exporter": "python",
   "pygments_lexer": "ipython3",
   "version": "3.6.4"
  }
 },
 "nbformat": 4,
 "nbformat_minor": 2
}
